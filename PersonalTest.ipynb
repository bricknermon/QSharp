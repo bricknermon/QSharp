{
  "cells": [
    {
      "cell_type": "code",
      "source": [],
      "outputs": [
        {
          "output_type": "display_data",
          "data": {
            "text/plain": "",
            "application/x-qsharp-data": "\"\""
          },
          "metadata": {
            "text/plain": {},
            "application/x-qsharp-data": {}
          }
        },
        {
          "output_type": "stream",
          "name": "stdout",
          "text": "Authenticated using Microsoft.Azure.Quantum.Authentication.TokenFileCredential\n\n\nConnected to Azure Quantum workspace LearningQshar in location westcentralus.\n"
        },
        {
          "output_type": "execute_result",
          "execution_count": 16,
          "data": {
            "text/plain": "Target ID                   Current Availability Average Queue Time (Seconds)\n--------------------------- ----------- -------\nionq.qpu                    Available   1579858\nionq.qpu.aria-1             Available   944726\nionq.simulator              Available   1\nmicrosoft.estimator         Available   0\nquantinuum.hqs-lt-s1        Unavailable 0\nquantinuum.hqs-lt-s1-apival Available   0\nquantinuum.hqs-lt-s2        Degraded    0\nquantinuum.hqs-lt-s2-apival Available   0\nquantinuum.hqs-lt-s1-sim    Available   64\nquantinuum.hqs-lt-s2-sim    Available   27\nquantinuum.qpu.h1-1         Unavailable 0\nquantinuum.sim.h1-1sc       Available   0\nquantinuum.qpu.h1-2         Degraded    0\nquantinuum.sim.h1-2sc       Available   0\nquantinuum.sim.h1-1e        Available   64\nquantinuum.sim.h1-2e        Available   27\nrigetti.sim.qvm             Available   5\nrigetti.qpu.aspen-m-2       Unavailable 0\nrigetti.qpu.aspen-m-3       Available   5\n",
            "text/html": "<table><thead><tr><th style=\"text-align: start;\">Target ID</th><th style=\"text-align: start;\">Current Availability</th><th style=\"text-align: start;\">Average Queue Time (Seconds)</th></tr></thead><tbody><tr><td style=\"text-align: start;\">ionq.qpu</td><td style=\"text-align: start;\">Available</td><td style=\"text-align: start;\">1579858</td></tr><tr><td style=\"text-align: start;\">ionq.qpu.aria-1</td><td style=\"text-align: start;\">Available</td><td style=\"text-align: start;\">944726</td></tr><tr><td style=\"text-align: start;\">ionq.simulator</td><td style=\"text-align: start;\">Available</td><td style=\"text-align: start;\">1</td></tr><tr><td style=\"text-align: start;\">microsoft.estimator</td><td style=\"text-align: start;\">Available</td><td style=\"text-align: start;\">0</td></tr><tr><td style=\"text-align: start;\">quantinuum.hqs-lt-s1</td><td style=\"text-align: start;\">Unavailable</td><td style=\"text-align: start;\">0</td></tr><tr><td style=\"text-align: start;\">quantinuum.hqs-lt-s1-apival</td><td style=\"text-align: start;\">Available</td><td style=\"text-align: start;\">0</td></tr><tr><td style=\"text-align: start;\">quantinuum.hqs-lt-s2</td><td style=\"text-align: start;\">Degraded</td><td style=\"text-align: start;\">0</td></tr><tr><td style=\"text-align: start;\">quantinuum.hqs-lt-s2-apival</td><td style=\"text-align: start;\">Available</td><td style=\"text-align: start;\">0</td></tr><tr><td style=\"text-align: start;\">quantinuum.hqs-lt-s1-sim</td><td style=\"text-align: start;\">Available</td><td style=\"text-align: start;\">64</td></tr><tr><td style=\"text-align: start;\">quantinuum.hqs-lt-s2-sim</td><td style=\"text-align: start;\">Available</td><td style=\"text-align: start;\">27</td></tr><tr><td style=\"text-align: start;\">quantinuum.qpu.h1-1</td><td style=\"text-align: start;\">Unavailable</td><td style=\"text-align: start;\">0</td></tr><tr><td style=\"text-align: start;\">quantinuum.sim.h1-1sc</td><td style=\"text-align: start;\">Available</td><td style=\"text-align: start;\">0</td></tr><tr><td style=\"text-align: start;\">quantinuum.qpu.h1-2</td><td style=\"text-align: start;\">Degraded</td><td style=\"text-align: start;\">0</td></tr><tr><td style=\"text-align: start;\">quantinuum.sim.h1-2sc</td><td style=\"text-align: start;\">Available</td><td style=\"text-align: start;\">0</td></tr><tr><td style=\"text-align: start;\">quantinuum.sim.h1-1e</td><td style=\"text-align: start;\">Available</td><td style=\"text-align: start;\">64</td></tr><tr><td style=\"text-align: start;\">quantinuum.sim.h1-2e</td><td style=\"text-align: start;\">Available</td><td style=\"text-align: start;\">27</td></tr><tr><td style=\"text-align: start;\">rigetti.sim.qvm</td><td style=\"text-align: start;\">Available</td><td style=\"text-align: start;\">5</td></tr><tr><td style=\"text-align: start;\">rigetti.qpu.aspen-m-2</td><td style=\"text-align: start;\">Unavailable</td><td style=\"text-align: start;\">0</td></tr><tr><td style=\"text-align: start;\">rigetti.qpu.aspen-m-3</td><td style=\"text-align: start;\">Available</td><td style=\"text-align: start;\">5</td></tr></tbody></table>",
            "application/x-qsharp-data": "[{\"id\":\"ionq.qpu\",\"current_availability\":{},\"average_queue_time\":1579858},{\"id\":\"ionq.qpu.aria-1\",\"current_availability\":{},\"average_queue_time\":944726},{\"id\":\"ionq.simulator\",\"current_availability\":{},\"average_queue_time\":1},{\"id\":\"microsoft.estimator\",\"current_availability\":{},\"average_queue_time\":0},{\"id\":\"quantinuum.hqs-lt-s1\",\"current_availability\":{},\"average_queue_time\":0},{\"id\":\"quantinuum.hqs-lt-s1-apival\",\"current_availability\":{},\"average_queue_time\":0},{\"id\":\"quantinuum.hqs-lt-s2\",\"current_availability\":{},\"average_queue_time\":0},{\"id\":\"quantinuum.hqs-lt-s2-apival\",\"current_availability\":{},\"average_queue_time\":0},{\"id\":\"quantinuum.hqs-lt-s1-sim\",\"current_availability\":{},\"average_queue_time\":64},{\"id\":\"quantinuum.hqs-lt-s2-sim\",\"current_availability\":{},\"average_queue_time\":27},{\"id\":\"quantinuum.qpu.h1-1\",\"current_availability\":{},\"average_queue_time\":0},{\"id\":\"quantinuum.sim.h1-1sc\",\"current_availability\":{},\"average_queue_time\":0},{\"id\":\"quantinuum.qpu.h1-2\",\"current_availability\":{},\"average_queue_time\":0},{\"id\":\"quantinuum.sim.h1-2sc\",\"current_availability\":{},\"average_queue_time\":0},{\"id\":\"quantinuum.sim.h1-1e\",\"current_availability\":{},\"average_queue_time\":64},{\"id\":\"quantinuum.sim.h1-2e\",\"current_availability\":{},\"average_queue_time\":27},{\"id\":\"rigetti.sim.qvm\",\"current_availability\":{},\"average_queue_time\":5},{\"id\":\"rigetti.qpu.aspen-m-2\",\"current_availability\":{},\"average_queue_time\":0},{\"id\":\"rigetti.qpu.aspen-m-3\",\"current_availability\":{},\"average_queue_time\":5}]"
          },
          "metadata": {
            "text/plain": {},
            "text/html": {},
            "application/x-qsharp-data": {}
          }
        }
      ],
      "execution_count": 16,
      "metadata": {
        "jupyter": {
          "source_hidden": false,
          "outputs_hidden": false
        },
        "nteract": {
          "transient": {
            "deleting": false
          }
        }
      }
    },
    {
      "cell_type": "code",
      "source": [
        "// Define the Bernstein-Vazirani algorithm\r\n",
        "open Microsoft.Quantum.Diagnostics;\r\n",
        "\r\n",
        "// Define a function that takes a bitstring x and returns a single bit\r\n",
        "operation F(x : Qubit[]) : Bool {\r\n",
        "    // Define a secret bitstring a\r\n",
        "    let a = [true, false, true, true];\r\n",
        "\r\n",
        "    // Compute the inner product of a and x\r\n",
        "    mutable result = false;\r\n",
        "    for i in 0 .. Length(x) - 1 {\r\n",
        "        if (a[i]) {\r\n",
        "            X(x[i]);\r\n",
        "        }\r\n",
        "        CNOT(x[i], _);\r\n",
        "        let measResult = Measure(_);\r\n",
        "        let _ = Measure(_);\r\n",
        "        set result = result xor (measResult == One);\r\n",
        "        if (a[i]) {\r\n",
        "            X(x[i]);\r\n",
        "        }\r\n",
        "    }\r\n",
        "\r\n",
        "    // Return the least significant bit of the inner product\r\n",
        "    return result;\r\n",
        "}\r\n",
        "\r\n",
        "operation BernsteinVazirani() : Unit {\r\n",
        "    // Define the number of qubits to use\r\n",
        "    let n = 4;\r\n",
        "\r\n",
        "    // Allocate a set of qubits and apply a Hadamard gate to each qubit\r\n",
        "    use qubits = Qubit[n];\r\n",
        "    ApplyToEachA(H, qubits);\r\n",
        "\r\n",
        "    // Apply the oracle F to the qubits\r\n",
        "    X(qubits[0]);\r\n",
        "    if (F(qubits)) {\r\n",
        "        X(qubits[n - 1]);\r\n",
        "    }\r\n",
        "\r\n",
        "    // Apply another Hadamard gate to each qubit\r\n",
        "    ApplyToEachA(H, qubits);\r\n",
        "\r\n",
        "    // Measure the qubits and print the result\r\n",
        "    let results = new Result[n];\r\n",
        "    for i in 0 .. n - 1 {\r\n",
        "        set results[i] = M(qubits[i]);\r\n",
        "    }\r\n",
        "    let result = ResultArrayAsInt(results);\r\n",
        "    Message($\"The secret bitstring is {result}.\");\r\n",
        "}\r\n",
        "\r\n",
        "// Define a function to convert a result array to an integer\r\n",
        "function ResultArrayAsInt(results : Result[]) : Int {\r\n",
        "    mutable value = 0;\r\n",
        "    for i in 0 .. Length(results) - 1 {\r\n",
        "        if (results[i] == One) {\r\n",
        "            set value = value + 2 ^ i;\r\n",
        "        }\r\n",
        "    }\r\n",
        "    return value;\r\n",
        "}\r\n",
        "\r\n",
        "\r\n"
      ],
      "outputs": [
        {
          "output_type": "display_data",
          "data": {
            "text/plain": "Error QS3035: Unexpected code fragment.\n 17 |         let _ = Measure(_);\n 18 |         set result = result xor (measResult == One);\n    |                             ^^^^^^^^^^^^^^^^^^^^^^^\n 19 |         if (a[i]) {",
            "text/html": "<strong>Error QS3035</strong>: Unexpected code fragment.\n<pre><code> 17 |         let _ = Measure(_);\n 18 |         set result = result <span style=\"font-weight: bold; text-decoration: underline; text-decoration-style: wavy; text-decoration-color: red\">xor (measResult == One)</span>;\n 19 |         if (a[i]) {</code></pre>",
            "application/x-qsharp-data": "{\"Source\":\"// Define the Bernstein-Vazirani algorithm\\nopen Microsoft.Quantum.Diagnostics;\\n\\n// Define a function that takes a bitstring x and returns a single bit\\noperation F(x : Qubit[]) : Bool {\\n    // Define a secret bitstring a\\n    let a = [true, false, true, true];\\n\\n    // Compute the inner product of a and x\\n    mutable result = false;\\n    for i in 0 .. Length(x) - 1 {\\n        if (a[i]) {\\n            X(x[i]);\\n        }\\n        CNOT(x[i], _);\\n        let measResult = Measure(_);\\n        let _ = Measure(_);\\n        set result = result xor (measResult == One);\\n        if (a[i]) {\\n            X(x[i]);\\n        }\\n    }\\n\\n    // Return the least significant bit of the inner product\\n    return result;\\n}\\n\\noperation BernsteinVazirani() : Unit {\\n    // Define the number of qubits to use\\n    let n = 4;\\n\\n    // Allocate a set of qubits and apply a Hadamard gate to each qubit\\n    use qubits = Qubit[n];\\n    ApplyToEachA(H, qubits);\\n\\n    // Apply the oracle F to the qubits\\n    X(qubits[0]);\\n    if (F(qubits)) {\\n        X(qubits[n - 1]);\\n    }\\n\\n    // Apply another Hadamard gate to each qubit\\n    ApplyToEachA(H, qubits);\\n\\n    // Measure the qubits and print the result\\n    let results = new Result[n];\\n    for i in 0 .. n - 1 {\\n        set results[i] = M(qubits[i]);\\n    }\\n    let result = ResultArrayAsInt(results);\\n    Message($\\\"The secret bitstring is {result}.\\\");\\n}\\n\\n// Define a function to convert a result array to an integer\\nfunction ResultArrayAsInt(results : Result[]) : Int {\\n    mutable value = 0;\\n    for i in 0 .. Length(results) - 1 {\\n        if (results[i] == One) {\\n            set value = value + 2 ^ i;\\n        }\\n    }\\n    return value;\\n}\\n\\n\\n\",\"Diagnostic\":{\"range\":{\"start\":{\"line\":17,\"character\":28},\"end\":{\"line\":17,\"character\":51}},\"severity\":1,\"code\":\"QS3035\",\"source\":\"/snippet_.qs\",\"message\":\"Unexpected code fragment.\"},\"Hint\":null}"
          },
          "metadata": {
            "text/plain": {},
            "text/html": {},
            "application/x-qsharp-data": {}
          }
        },
        {
          "output_type": "display_data",
          "data": {
            "text/plain": "Warning QS3308: Deprecated syntax. Use [] to construct an empty array, or [x, size = n] to construct an array of x repeated n times.\n 45 |     // Measure the qubits and print the result\n 46 |     let results = new Result[n];\n    |                   ^^^^^^^^^^^^^\n 47 |     for i in 0 .. n - 1 {\nFor more information, see {uri}.",
            "text/html": "<strong>Warning QS3308</strong>: Deprecated syntax. Use [] to construct an empty array, or [x, size = n] to construct an array of x repeated n times.\n<pre><code> 45 |     // Measure the qubits and print the result\n 46 |     let results = <span style=\"font-weight: bold; text-decoration: underline; text-decoration-style: wavy; text-decoration-color: orange\">new Result[n]</span>;\n 47 |     for i in 0 .. n - 1 {</code></pre>\n<br><small>For more information, see the <a href=\"https://learn.microsoft.com/azure/quantum/qs-compiler-messages/qs3308\">Azure Quantum documentation for QS3308</a></small>.",
            "application/x-qsharp-data": "{\"Source\":\"// Define the Bernstein-Vazirani algorithm\\nopen Microsoft.Quantum.Diagnostics;\\n\\n// Define a function that takes a bitstring x and returns a single bit\\noperation F(x : Qubit[]) : Bool {\\n    // Define a secret bitstring a\\n    let a = [true, false, true, true];\\n\\n    // Compute the inner product of a and x\\n    mutable result = false;\\n    for i in 0 .. Length(x) - 1 {\\n        if (a[i]) {\\n            X(x[i]);\\n        }\\n        CNOT(x[i], _);\\n        let measResult = Measure(_);\\n        let _ = Measure(_);\\n        set result = result xor (measResult == One);\\n        if (a[i]) {\\n            X(x[i]);\\n        }\\n    }\\n\\n    // Return the least significant bit of the inner product\\n    return result;\\n}\\n\\noperation BernsteinVazirani() : Unit {\\n    // Define the number of qubits to use\\n    let n = 4;\\n\\n    // Allocate a set of qubits and apply a Hadamard gate to each qubit\\n    use qubits = Qubit[n];\\n    ApplyToEachA(H, qubits);\\n\\n    // Apply the oracle F to the qubits\\n    X(qubits[0]);\\n    if (F(qubits)) {\\n        X(qubits[n - 1]);\\n    }\\n\\n    // Apply another Hadamard gate to each qubit\\n    ApplyToEachA(H, qubits);\\n\\n    // Measure the qubits and print the result\\n    let results = new Result[n];\\n    for i in 0 .. n - 1 {\\n        set results[i] = M(qubits[i]);\\n    }\\n    let result = ResultArrayAsInt(results);\\n    Message($\\\"The secret bitstring is {result}.\\\");\\n}\\n\\n// Define a function to convert a result array to an integer\\nfunction ResultArrayAsInt(results : Result[]) : Int {\\n    mutable value = 0;\\n    for i in 0 .. Length(results) - 1 {\\n        if (results[i] == One) {\\n            set value = value + 2 ^ i;\\n        }\\n    }\\n    return value;\\n}\\n\\n\\n\",\"Diagnostic\":{\"range\":{\"start\":{\"line\":45,\"character\":18},\"end\":{\"line\":45,\"character\":31}},\"severity\":2,\"code\":\"QS3308\",\"source\":\"/snippet_.qs\",\"message\":\"Deprecated syntax. Use [] to construct an empty array, or [x, size = n] to construct an array of x repeated n times.\"},\"Hint\":null}"
          },
          "metadata": {
            "text/plain": {},
            "text/html": {},
            "application/x-qsharp-data": {}
          }
        },
        {
          "output_type": "display_data",
          "data": {
            "text/plain": "Error QS3303: Array items are immutable. To set an item \"idx\" of an array \"arr\" to a value \"expr\", use and reassign a copy-and-update expression instead: \"set arr w/= idx <- expr;\".\n 47 |     for i in 0 .. n - 1 {\n 48 |         set results[i] = M(qubits[i]);\n    |             ^^^^^^^^^^\n 49 |     }",
            "text/html": "<strong>Error QS3303</strong>: Array items are immutable. To set an item \"idx\" of an array \"arr\" to a value \"expr\", use and reassign a copy-and-update expression instead: \"set arr w/= idx <- expr;\".\n<pre><code> 47 |     for i in 0 .. n - 1 {\n 48 |         set <span style=\"font-weight: bold; text-decoration: underline; text-decoration-style: wavy; text-decoration-color: red\">results[i]</span> = M(qubits[i]);\n 49 |     }</code></pre>",
            "application/x-qsharp-data": "{\"Source\":\"// Define the Bernstein-Vazirani algorithm\\nopen Microsoft.Quantum.Diagnostics;\\n\\n// Define a function that takes a bitstring x and returns a single bit\\noperation F(x : Qubit[]) : Bool {\\n    // Define a secret bitstring a\\n    let a = [true, false, true, true];\\n\\n    // Compute the inner product of a and x\\n    mutable result = false;\\n    for i in 0 .. Length(x) - 1 {\\n        if (a[i]) {\\n            X(x[i]);\\n        }\\n        CNOT(x[i], _);\\n        let measResult = Measure(_);\\n        let _ = Measure(_);\\n        set result = result xor (measResult == One);\\n        if (a[i]) {\\n            X(x[i]);\\n        }\\n    }\\n\\n    // Return the least significant bit of the inner product\\n    return result;\\n}\\n\\noperation BernsteinVazirani() : Unit {\\n    // Define the number of qubits to use\\n    let n = 4;\\n\\n    // Allocate a set of qubits and apply a Hadamard gate to each qubit\\n    use qubits = Qubit[n];\\n    ApplyToEachA(H, qubits);\\n\\n    // Apply the oracle F to the qubits\\n    X(qubits[0]);\\n    if (F(qubits)) {\\n        X(qubits[n - 1]);\\n    }\\n\\n    // Apply another Hadamard gate to each qubit\\n    ApplyToEachA(H, qubits);\\n\\n    // Measure the qubits and print the result\\n    let results = new Result[n];\\n    for i in 0 .. n - 1 {\\n        set results[i] = M(qubits[i]);\\n    }\\n    let result = ResultArrayAsInt(results);\\n    Message($\\\"The secret bitstring is {result}.\\\");\\n}\\n\\n// Define a function to convert a result array to an integer\\nfunction ResultArrayAsInt(results : Result[]) : Int {\\n    mutable value = 0;\\n    for i in 0 .. Length(results) - 1 {\\n        if (results[i] == One) {\\n            set value = value + 2 ^ i;\\n        }\\n    }\\n    return value;\\n}\\n\\n\\n\",\"Diagnostic\":{\"range\":{\"start\":{\"line\":47,\"character\":12},\"end\":{\"line\":47,\"character\":22}},\"severity\":1,\"code\":\"QS3303\",\"source\":\"/snippet_.qs\",\"message\":\"Array items are immutable. To set an item \\\"idx\\\" of an array \\\"arr\\\" to a value \\\"expr\\\", use and reassign a copy-and-update expression instead: \\\"set arr w/= idx <- expr;\\\".\"},\"Hint\":null}"
          },
          "metadata": {
            "text/plain": {},
            "text/html": {},
            "application/x-qsharp-data": {}
          }
        },
        {
          "output_type": "display_data",
          "data": {
            "text/plain": "Error QS0005: This expression has type (Qubit => Unit is Adj + Ctl) and its value is implicitly ignored. Use \"let _ = expr;\" or \"Ignore(expr);\" to discard the value explicitly.\n 14 |         }\n 15 |         CNOT(x[i], _);\n    |         ^^^^^^^^^^^^^\n 16 |         let measResult = Measure(_);",
            "text/html": "<strong>Error QS0005</strong>: This expression has type (Qubit => Unit is Adj + Ctl) and its value is implicitly ignored. Use \"let _ = expr;\" or \"Ignore(expr);\" to discard the value explicitly.\n<pre><code> 14 |         }\n 15 |         <span style=\"font-weight: bold; text-decoration: underline; text-decoration-style: wavy; text-decoration-color: red\">CNOT(x[i], _)</span>;\n 16 |         let measResult = Measure(_);</code></pre>",
            "application/x-qsharp-data": "{\"Source\":\"// Define the Bernstein-Vazirani algorithm\\nopen Microsoft.Quantum.Diagnostics;\\n\\n// Define a function that takes a bitstring x and returns a single bit\\noperation F(x : Qubit[]) : Bool {\\n    // Define a secret bitstring a\\n    let a = [true, false, true, true];\\n\\n    // Compute the inner product of a and x\\n    mutable result = false;\\n    for i in 0 .. Length(x) - 1 {\\n        if (a[i]) {\\n            X(x[i]);\\n        }\\n        CNOT(x[i], _);\\n        let measResult = Measure(_);\\n        let _ = Measure(_);\\n        set result = result xor (measResult == One);\\n        if (a[i]) {\\n            X(x[i]);\\n        }\\n    }\\n\\n    // Return the least significant bit of the inner product\\n    return result;\\n}\\n\\noperation BernsteinVazirani() : Unit {\\n    // Define the number of qubits to use\\n    let n = 4;\\n\\n    // Allocate a set of qubits and apply a Hadamard gate to each qubit\\n    use qubits = Qubit[n];\\n    ApplyToEachA(H, qubits);\\n\\n    // Apply the oracle F to the qubits\\n    X(qubits[0]);\\n    if (F(qubits)) {\\n        X(qubits[n - 1]);\\n    }\\n\\n    // Apply another Hadamard gate to each qubit\\n    ApplyToEachA(H, qubits);\\n\\n    // Measure the qubits and print the result\\n    let results = new Result[n];\\n    for i in 0 .. n - 1 {\\n        set results[i] = M(qubits[i]);\\n    }\\n    let result = ResultArrayAsInt(results);\\n    Message($\\\"The secret bitstring is {result}.\\\");\\n}\\n\\n// Define a function to convert a result array to an integer\\nfunction ResultArrayAsInt(results : Result[]) : Int {\\n    mutable value = 0;\\n    for i in 0 .. Length(results) - 1 {\\n        if (results[i] == One) {\\n            set value = value + 2 ^ i;\\n        }\\n    }\\n    return value;\\n}\\n\\n\\n\",\"Diagnostic\":{\"range\":{\"start\":{\"line\":14,\"character\":8},\"end\":{\"line\":14,\"character\":21}},\"severity\":1,\"code\":\"QS0005\",\"source\":\"/snippet_.qs\",\"message\":\"This expression has type (Qubit => Unit is Adj + Ctl) and its value is implicitly ignored. Use \\\"let _ = expr;\\\" or \\\"Ignore(expr);\\\" to discard the value explicitly.\"},\"Hint\":null}"
          },
          "metadata": {
            "text/plain": {},
            "text/html": {},
            "application/x-qsharp-data": {}
          }
        }
      ],
      "execution_count": 25,
      "metadata": {
        "jupyter": {
          "source_hidden": false,
          "outputs_hidden": false
        },
        "nteract": {
          "transient": {
            "deleting": false
          }
        }
      }
    },
    {
      "cell_type": "code",
      "source": [],
      "outputs": [],
      "execution_count": null,
      "metadata": {
        "jupyter": {
          "source_hidden": false,
          "outputs_hidden": false
        },
        "nteract": {
          "transient": {
            "deleting": false
          }
        }
      }
    }
  ],
  "metadata": {
    "language_info": {
      "name": "qsharp",
      "version": "0.27",
      "mimetype": "text/x-qsharp",
      "file_extension": ".qs"
    },
    "kernelspec": {
      "name": "iqsharp",
      "language": "qsharp",
      "display_name": "Q#"
    },
    "kernel_info": {
      "name": "iqsharp"
    },
    "nteract": {
      "version": "nteract-front-end@1.0.0"
    }
  },
  "nbformat": 4,
  "nbformat_minor": 0
}