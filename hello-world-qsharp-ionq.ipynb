{
  "cells": [
    {
      "cell_type": "markdown",
      "source": [
        "# 👋🌍 Hello, world: Submit a Q# job to IonQ\n",
        "\n",
        "In this notebook, we'll review the basics of Azure Quantum by submitting a simple *job*, or quantum program, to [IonQ](https://ionq.com/). We will use [Q#](https://docs.microsoft.com/azure/quantum/user-guide/) to express the quantum job."
      ],
      "metadata": {},
      "id": "508036d9-3f52-407b-bef8-f032ba54fcf2"
    },
    {
      "cell_type": "markdown",
      "source": [
        "## Submit a simple job to IonQ using Azure Quantum\n",
        "Azure Quantum provides several ways to express quantum programs. In this example we are using Q#, but note that Qiskit and Cirq are also supported. All code in this example will be written in Python and Q#.\n",
        "\n",
        "Let's begin. When you see a code block, hover over it and click the triangle play-button to execute it. To avoid any compilation issues, this should be done in order from top to bottom."
      ],
      "metadata": {
        "nteract": {
          "transient": {
            "deleting": false
          }
        }
      },
      "id": "135de355-65e1-4512-8473-eb1ffa10e778"
    },
    {
      "cell_type": "markdown",
      "source": [
        "### 1. Connect to the Azure Quantum workspace\n",
        "\n",
        "To connect to the Azure Quantum service, call the `connect` function as seen below. This can take 30 seconds to run the first time, as the Q# environment is initializing."
      ],
      "metadata": {
        "nteract": {
          "transient": {
            "deleting": false
          }
        }
      },
      "id": "06a4cf75-042a-451e-a192-de8854758b30"
    },
    {
      "cell_type": "code",
      "source": [
        "import qsharp.azure\n",
        "\n",
        "targets = qsharp.azure.connect(\n",
        "            resourceId = \"\",\n",
        "            location = \"westcentralus\")\n",
        "\n"
      ],
      "outputs": [
        {
          "output_type": "stream",
          "name": "stdout",
          "text": "Preparing Q# environment...\n.."
        },
        {
          "output_type": "display_data",
          "data": {
            "text/plain": "Connecting to Azure Quantum...",
            "application/x-qsharp-data": "\"Connecting to Azure Quantum...\""
          },
          "metadata": {}
        },
        {
          "output_type": "stream",
          "name": "stdout",
          "text": "Authenticated using Microsoft.Azure.Quantum.Authentication.TokenFileCredential\n\n\nConnected to Azure Quantum workspace LearningQshar in location westcentralus.\n"
        }
      ],
      "execution_count": 1,
      "metadata": {},
      "id": "ab8c7c01-4d64-4628-8dfa-dbd09e1b47db"
    },
    {
      "cell_type": "markdown",
      "source": [
        "We can use the resulting object to see which _targets_ are available for submission."
      ],
      "metadata": {
        "nteract": {
          "transient": {
            "deleting": false
          }
        }
      },
      "id": "beab7e51-1176-4b11-87f5-ea30840775ec"
    },
    {
      "cell_type": "code",
      "source": [
        "import qsharp\n",
        "\n",
        "print(\"This workspace's targets:\")\n",
        "for target in targets:\n",
        "    print(\"-\", target.id)\n"
      ],
      "outputs": [
        {
          "output_type": "stream",
          "name": "stdout",
          "text": "This workspace's targets:\n- ionq.qpu\n- ionq.qpu.aria-1\n- ionq.simulator\n- microsoft.estimator\n- quantinuum.hqs-lt-s1\n- quantinuum.hqs-lt-s1-apival\n- quantinuum.hqs-lt-s2\n- quantinuum.hqs-lt-s2-apival\n- quantinuum.hqs-lt-s1-sim\n- quantinuum.hqs-lt-s2-sim\n- quantinuum.qpu.h1-1\n- quantinuum.sim.h1-1sc\n- quantinuum.qpu.h1-2\n- quantinuum.sim.h1-2sc\n- quantinuum.sim.h1-1e\n- quantinuum.sim.h1-2e\n- rigetti.sim.qvm\n- rigetti.qpu.aspen-m-2\n- rigetti.qpu.aspen-m-3\n"
        }
      ],
      "execution_count": 2,
      "metadata": {
        "jupyter": {
          "outputs_hidden": false,
          "source_hidden": false
        },
        "nteract": {
          "transient": {
            "deleting": false
          }
        }
      },
      "id": "7d3cf624-c220-41fb-8e09-fbf29ab0e10b"
    },
    {
      "cell_type": "markdown",
      "source": [
        "### ❕ Do you see `ionq.simulator` in your list of targets? If so, you're ready to keep going.\n",
        "\n",
        "Don't see it? You may need to add IonQ to your workspace to run this sample. Navigate to the **Providers** page in the portal and click **+Add** to add the IonQ provider. Don't worry, there's a free credits plan available."
      ],
      "metadata": {
        "nteract": {
          "transient": {
            "deleting": false
          }
        }
      },
      "id": "ff15c414-83ed-4625-b6f3-7c002ab34df0"
    },
    {
      "cell_type": "markdown",
      "source": [
        "## IonQ: The quantum provider\n",
        "Azure Quantum partners with third-party companies to deliver solutions to quantum jobs. These company offerings are called *providers*. Each provider can offer multiple *targets* with different capabilities. See the table below for IonQ's targets.\n",
        "\n",
        "| Target name | Target ID | Number of qubits | Description |\n",
        "| --- | --- | --- | --- |\n",
        "| Quantum simulator | `ionq.simulator` | 29 qubits | IonQ's cloud-based idealized simulator. Free of cost. |\n",
        "| Aria 1 | `ionq.qpu.aria-1` | 23 qubits | IonQ's Aria 1 trapped-ion quantum computer. This is real quantum hardware, not a simulation. |\n",
        "| Quantum computer | `ionq.qpu` | 11 qubits | IonQ's trapped-ion quantum computer. This is real quantum hardware, not a simulation. |\n",
        "\n",
        "For this example, we will use `ionq.simulator`. To learn more about IonQ's targets, check out our [documentation](https://docs.microsoft.com/azure/quantum/provider-ionq)."
      ],
      "metadata": {
        "nteract": {
          "transient": {
            "deleting": false
          }
        }
      },
      "id": "690d0ce5-8eca-4666-81c8-74bd8143b213"
    },
    {
      "cell_type": "markdown",
      "source": [
        "### 2. Build the quantum program\n",
        "\n",
        "Let's create a simple Q# program to run. This can take 30 seconds to run the first time, as the Q# environment is initializing."
      ],
      "metadata": {},
      "id": "b9ff2d3e-e1cd-4995-bfde-54207790af24"
    },
    {
      "cell_type": "code",
      "source": [
        "# We declare the function we will define in Q# as a callable so that Python recognizes the symbol.\n",
        "GenerateRandomBit: any = None\n"
      ],
      "outputs": [],
      "execution_count": 3,
      "metadata": {
        "jupyter": {
          "outputs_hidden": false,
          "source_hidden": false
        },
        "nteract": {
          "transient": {
            "deleting": false
          }
        }
      },
      "id": "c45dbbae-7b81-4277-a69a-5c45c7708c51"
    },
    {
      "cell_type": "code",
      "source": [
        "%%qsharp\n",
        "open Microsoft.Quantum.Measurement;\n",
        "open Microsoft.Quantum.Arrays;\n",
        "open Microsoft.Quantum.Convert;\n",
        "\n",
        "operation GenerateRandomBit() : Result {\n",
        "    use target = Qubit();\n",
        "\n",
        "    // Apply an H-gate and measure.\n",
        "    H(target);\n",
        "    return M(target);\n",
        "}\n"
      ],
      "outputs": [],
      "execution_count": 5,
      "metadata": {
        "microsoft": {
          "language": "qsharp"
        }
      },
      "id": "9f861793-3dc9-4e4d-9ab0-bef4a8678cdb"
    },
    {
      "cell_type": "markdown",
      "source": [
        "The program you built is a simple quantum random bit generator. With IonQ's idealized simulator, we will be able to calculate the probability of measuring a `1` or `0`."
      ],
      "metadata": {
        "nteract": {
          "transient": {
            "deleting": false
          }
        }
      },
      "id": "96539101-e520-4eb1-a795-abd0952fe9b5"
    },
    {
      "cell_type": "markdown",
      "source": [
        "### 3. Submit the quantum program to IonQ\n",
        "\n",
        "We will use the `execute` function to run the quantum program above on IonQ's `ionq.simulator` target. This may take a minute or so ⏳. Your job will be packaged and sent to IonQ, where it will wait its turn to be run."
      ],
      "metadata": {},
      "id": "363d13af-2e42-4732-9d61-930f30adfd37"
    },
    {
      "cell_type": "code",
      "source": [
        "# Set the target to ionq.simulator\n",
        "qsharp.azure.target(\"ionq.simulator\")\n",
        "\n",
        "# We'll use 100 shots (simulated runs). Timeout is in seconds.\n",
        "result = qsharp.azure.execute(GenerateRandomBit, shots=100, jobName=\"Generate one random bit\", timeout=240)\n"
      ],
      "outputs": [
        {
          "output_type": "stream",
          "name": "stdout",
          "text": "Loading package Microsoft.Quantum.Providers.IonQ and dependencies...\nActive target is now ionq.simulator\nSubmitting GenerateRandomBit to target ionq.simulator...\nJob successfully submitted.\n   Job name: Generate one random bit\n   Job ID: 83d2591b-aef8-49b1-95d2-2f3d5703ce22\nWaiting up to 240 seconds for Azure Quantum job to complete...\n[03:40:47] Current job status: Waiting\n[03:40:52] Current job status: Succeeded\n"
        }
      ],
      "execution_count": 6,
      "metadata": {},
      "id": "b790e70c-d37f-456a-b119-ddc60a36ab32"
    },
    {
      "cell_type": "markdown",
      "source": [
        "The job ID can be used to retrieve the results later using the `output` and `status` functions or by viewing it under the **Job management** section of the portal."
      ],
      "metadata": {
        "nteract": {
          "transient": {
            "deleting": false
          }
        }
      },
      "id": "ffc9d3e2-cb63-4e8f-a17b-728ae6e275a7"
    },
    {
      "cell_type": "markdown",
      "source": [
        "### 4. Visualize job results \n",
        "You can also view a histogram of the results using [`pyplot`](https://matplotlib.org/stable/api/_as_gen/matplotlib.pyplot.html):"
      ],
      "metadata": {
        "nteract": {
          "transient": {
            "deleting": false
          }
        }
      },
      "id": "082b7775-8472-4047-9f09-c7066328701d"
    },
    {
      "cell_type": "code",
      "source": [
        "from matplotlib import pyplot\n",
        "\n",
        "pyplot.bar(result.keys(), result.values())\n",
        "pyplot.title(\"Result\")\n",
        "pyplot.xlabel(\"Measurement\")\n",
        "pyplot.ylabel(\"Probability\")\n",
        "\n",
        "pyplot.show()\n"
      ],
      "outputs": [
        {
          "output_type": "display_data",
          "data": {
            "text/plain": "<Figure size 640x480 with 1 Axes>",
            "image/png": "[encoded data removed]"
          },
          "metadata": {}
        }
      ],
      "execution_count": 7,
      "metadata": {
        "jupyter": {
          "outputs_hidden": false,
          "source_hidden": false
        },
        "nteract": {
          "transient": {
            "deleting": false
          }
        }
      },
      "id": "aa64093e-1bca-4c5e-8720-bda6129a22dd"
    },
    {
      "cell_type": "markdown",
      "source": [
        "**See the histogram above? Congratulations, you've submitted a job with Azure Quantum! 👏**\n"
      ],
      "metadata": {
        "nteract": {
          "transient": {
            "deleting": false
          }
        }
      },
      "id": "e8d6be44-361b-473e-bc13-ba94575d7385"
    },
    {
      "cell_type": "markdown",
      "source": [
        "### 5. Next steps\n",
        "Next, you can try running a program on IonQ's hardware target - just replace `ionq.simulator` with `ionq.qpu`. Or try another sample by navigating back to the sample gallery. The same \"hello world\" sample can be run with different quantum providers by choosing another option in the gallery card drop-down menu. Don't worry - your work here is automatically saved.\n",
        "\n",
        "To learn more about submitting jobs to Azure Quantum using Q#, refer to [this documentation](https://docs.microsoft.com/azure/quantum/how-to-submit-jobs?pivots=ide-python).\n",
        "\n",
        "To learn more about job pricing, review the [Azure Quantum documentation on job costs](https://docs.microsoft.com/azure/quantum/azure-quantum-job-costs)."
      ],
      "metadata": {
        "nteract": {
          "transient": {
            "deleting": false
          }
        }
      },
      "id": "0b6e63ac-395d-4edf-8e9a-ac0bcb86ad4a"
    }
  ],
  "metadata": {
    "kernel_info": {
      "name": "python3"
    },
    "kernelspec": {
      "name": "python3",
      "language": "python",
      "display_name": "Python 3 (ipykernel)"
    },
    "language_info": {
      "name": "python",
      "version": "3.9.16",
      "mimetype": "text/x-python",
      "codemirror_mode": {
        "name": "ipython",
        "version": 3
      },
      "pygments_lexer": "ipython3",
      "nbconvert_exporter": "python",
      "file_extension": ".py"
    },
    "nteract": {
      "version": "nteract-front-end@1.0.0"
    },
    "microsoft": {
      "host": {
        "AzureQuantum": {
          "sourceType": "SampleGallery",
          "sourceLink": "https://raw.githubusercontent.com/microsoft/Quantum/2faada09f683b1112a3730caa561faff7b35b5df/samples/azure-quantum/hello-world/HW-ionq-qsharp.ipynb"
        }
      }
    }
  },
  "nbformat": 4,
  "nbformat_minor": 5
}